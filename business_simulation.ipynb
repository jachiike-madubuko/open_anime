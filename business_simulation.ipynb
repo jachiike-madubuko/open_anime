{
 "cells": [
  {
   "cell_type": "code",
   "execution_count": 1,
   "metadata": {},
   "outputs": [],
   "source": [
    "import numpy as np\n",
    "import pandas as pd\n",
    "import random\n",
    "import matplotlib.pyplot as plt\n",
    "import seaborn as sns"
   ]
  },
  {
   "cell_type": "code",
   "execution_count": 2,
   "metadata": {},
   "outputs": [
    {
     "name": "stdout",
     "output_type": "stream",
     "text": [
      "Customers Gained:  1309\n",
      "CAC:  38\n"
     ]
    }
   ],
   "source": [
    "# From the expected conversion rate and stdev of it, get the\n",
    "# realized conversion rate\n",
    "def get_conversion_rate(expected, stdev):\n",
    "    conversion_rate = max(expected + np.random.normal()*stdev, \n",
    "                          0.000001)\n",
    "    return conversion_rate\n",
    "\n",
    "# Function for calculating the results of a marketing campaign\n",
    "def run_campaign(spend, cpm, conversion_rate):\n",
    "    return np.random.binomial(spend/cpm*1000, conversion_rate)\n",
    "\n",
    "\n",
    "# Gather marketing campaign inputs\n",
    "\n",
    "# Budget\n",
    "spend = 50000.\n",
    "# Cost per thousand\n",
    "cpm = 2\n",
    "# Conversion rate\n",
    "conversion_rate_expected = 0.00005\n",
    "conversion_rate_stdev = 0.00002\n",
    "\n",
    "# Run the function\n",
    "conversion_rate = get_conversion_rate(conversion_rate_expected, \n",
    "                                      conversion_rate_stdev)\n",
    "cohort_size = run_campaign(spend, cpm, conversion_rate)\n",
    "CAC = spend/cohort_size\n",
    "\n",
    "print('Customers Gained: ', cohort_size)\n",
    "print('CAC: ', int(CAC))"
   ]
  },
  {
   "cell_type": "code",
   "execution_count": 3,
   "metadata": {},
   "outputs": [],
   "source": [
    "# Function that models the progression of a cohort over time\n",
    "def simulate_cohort(cohort_size, churn_rate, transactions, price, \n",
    "                    retention_cost, yrs=5):\n",
    "    customers_left = []\n",
    "    spending = []\n",
    "    profit = []\n",
    "    for i in range(yrs):\n",
    "        for customer in range(cohort_size):\n",
    "            # Assume cancels happen at the start of the year \n",
    "            # (for simplicity)\n",
    "            churn_random_num = np.random.random()\n",
    "            # Generate a random number between 0 and 1, if less \n",
    "            # than churn_rate then customer has churned and we \n",
    "            # subtract 1 from cohort_size\n",
    "            if churn_random_num <= churn_rate:\n",
    "                cohort_size += -1\n",
    "            # Calculate and record cohort's data\n",
    "        customers_left.append(cohort_size)\n",
    "        spending.append(cohort_size*transactions*price)\n",
    "        profit.append(cohort_size*(transactions*price -\\\n",
    "                                   retention_cost))\n",
    "    return customers_left, spending, profit\n",
    "\n",
    "\n",
    "# Gather cohort related inputs\n",
    "\n",
    "churn_rate = 0.20\n",
    "# Number of annual transactions per average cohort member\n",
    "transactions = 6\n",
    "# Price of goods sold per average transaction\n",
    "price = 10\n",
    "# Annual cost of retaining/servicing customer\n",
    "retention_cost = 20\n",
    "\n",
    "# Run the function\n",
    "customers_left, spending, profit =\\\n",
    "    simulate_cohort(cohort_size, churn_rate, transactions, \n",
    "                    price, retention_cost, yrs=5)"
   ]
  },
  {
   "cell_type": "code",
   "execution_count": 4,
   "metadata": {},
   "outputs": [
    {
     "name": "stdout",
     "output_type": "stream",
     "text": [
      "Total Cohort Value:  113285\n",
      "CLTV:  86\n",
      "CLTV-CAC Spread:  48\n"
     ]
    }
   ],
   "source": [
    "# Function to calculate the present value of a set of cashflows\n",
    "def present_value(cashflows, rate):\n",
    "    pvs = []\n",
    "    for i, val in enumerate(cashflows):\n",
    "        pvs.append(val/(1 + rate)**(i+1))\n",
    "    return pvs\n",
    "\n",
    "\n",
    "# Calculate CLTV\n",
    "rate = 0.10\n",
    "\n",
    "# Get the PV of the profits\n",
    "pvs = present_value(profit, rate)\n",
    "# Value of the cohort in today's dollars is sum of PVs\n",
    "cohort_value = sum(pvs)\n",
    "\n",
    "print('Total Cohort Value: ', int(cohort_value))\n",
    "print('CLTV: ', int(cohort_value/cohort_size))\n",
    "print('CLTV-CAC Spread: ', int(cohort_value/cohort_size - CAC))"
   ]
  },
  {
   "cell_type": "code",
   "execution_count": 5,
   "metadata": {},
   "outputs": [
    {
     "data": {
      "image/png": "[encoded data removed]",
      "text/plain": [
       "<Figure size 648x432 with 1 Axes>"
      ]
     },
     "metadata": {
      "needs_background": "light"
     },
     "output_type": "display_data"
    }
   ],
   "source": [
    "# Bar chart for profit and its PV\n",
    "fig, ax = plt.subplots(figsize=(9,6))\n",
    "plt.bar(x=[i-0.2 for i in range(1,6)], height=profit, width=0.4, label='Profit')\n",
    "plt.bar(x=[i+0.2 for i in range(1,6)], height=pvs, width=0.4, label='Present Value of Profit')\n",
    "\n",
    "ax.set_xlabel(\"Year\",fontsize=16)\n",
    "ax.set_ylabel(\"Profits ($USD)\",fontsize=16)\n",
    "plt.legend()\n",
    "plt.tight_layout()\n",
    "\n",
    "plt.savefig(fname='profit_bar', dpi=150)\n",
    "plt.show()"
   ]
  },
  {
   "cell_type": "code",
   "execution_count": 6,
   "metadata": {},
   "outputs": [],
   "source": [
    "# Simulate 1000 times and look at the distributions\n",
    "\n",
    "cohort_size_list = []\n",
    "CAC_list = []\n",
    "CLTV_list = []\n",
    "\n",
    "for i in range(1000):\n",
    "    \n",
    "    # Run marketing campaign sim\n",
    "    conversion_rate = get_conversion_rate(conversion_rate_expected, \n",
    "                                      conversion_rate_stdev)\n",
    "    cohort_size = run_campaign(spend, cpm, conversion_rate)\n",
    "    CAC = spend/cohort_size\n",
    "    \n",
    "    # Simulate the resulting cohort\n",
    "    customers_left, spending, profit =\\\n",
    "        simulate_cohort(cohort_size, churn_rate, transactions, \n",
    "                        price, retention_cost, yrs=5)\n",
    "    \n",
    "    cohort_value = sum(present_value(profit, rate))\n",
    "    \n",
    "    cohort_size_list.append(cohort_size)\n",
    "    CAC_list.append(CAC)\n",
    "    CLTV_list.append(cohort_value/cohort_size)\n",
    "    \n",
    "# Store simulation results in a dataframe\n",
    "results_df = pd.DataFrame()\n",
    "results_df['initial_cohort_size'] = cohort_size_list\n",
    "results_df['CLTV'] = CLTV_list\n",
    "results_df['CAC'] = CAC_list\n",
    "results_df['Spread'] = results_df['CLTV'] - results_df['CAC']\n",
    "\n",
    "plot_df = results_df[results_df['CAC']<=1000]"
   ]
  },
  {
   "cell_type": "code",
   "execution_count": 7,
   "metadata": {},
   "outputs": [
    {
     "data": {
      "image/png": "[encoded data removed]",
      "text/plain": [
       "<Figure size 648x432 with 1 Axes>"
      ]
     },
     "metadata": {
      "needs_background": "light"
     },
     "output_type": "display_data"
    }
   ],
   "source": [
    "# Histogram for distribution of initial cohort size\n",
    "fig, ax = plt.subplots(figsize=(9,6))\n",
    "sns.distplot(plot_df['initial_cohort_size'], kde=False, bins=30)\n",
    "\n",
    "ax.set_xlabel(\"Initial Cohort Size\",fontsize=16)\n",
    "ax.set_ylabel(\"Frequency\",fontsize=16)\n",
    "plt.tight_layout()\n",
    "\n",
    "plt.savefig(fname='cohort_hist', dpi=150)\n",
    "plt.show()"
   ]
  },
  {
   "cell_type": "code",
   "execution_count": 25,
   "metadata": {},
   "outputs": [
    {
     "data": {
      "image/png": "[encoded data removed]",
      "text/plain": [
       "<Figure size 648x432 with 1 Axes>"
      ]
     },
     "metadata": {
      "needs_background": "light"
     },
     "output_type": "display_data"
    }
   ],
   "source": [
    "# Histogram for distribution of initial cohort size\n",
    "fig, ax = plt.subplots(figsize=(9,6))\n",
    "sns.distplot(plot_df['CAC'], kde=False, bins=60)\n",
    "\n",
    "ax.set_xlabel(\"Customer Acquisition Cost\",fontsize=16)\n",
    "ax.set_ylabel(\"Frequency\",fontsize=16)\n",
    "plt.tight_layout()\n",
    "\n",
    "plt.savefig(fname='CAC_hist', dpi=150)\n",
    "plt.show()"
   ]
  },
  {
   "cell_type": "code",
   "execution_count": 9,
   "metadata": {},
   "outputs": [
    {
     "data": {
      "image/png": "[encoded data removed]",
      "text/plain": [
       "<Figure size 648x432 with 1 Axes>"
      ]
     },
     "metadata": {
      "needs_background": "light"
     },
     "output_type": "display_data"
    }
   ],
   "source": [
    "# Histogram for distribution of initial cohort size\n",
    "fig, ax = plt.subplots(figsize=(9,6))\n",
    "sns.distplot(plot_df['CLTV'], kde=False, bins=30)\n",
    "\n",
    "ax.set_xlabel(\"Customer Lifetime Value\",fontsize=16)\n",
    "ax.set_ylabel(\"Frequency\",fontsize=16)\n",
    "plt.tight_layout()\n",
    "\n",
    "plt.savefig(fname='CLTV_hist', dpi=150)\n",
    "plt.show()"
   ]
  },
  {
   "cell_type": "code",
   "execution_count": 40,
   "metadata": {},
   "outputs": [
    {
     "data": {
      "image/png": "[encoded data removed]",
      "text/plain": [
       "<Figure size 648x432 with 1 Axes>"
      ]
     },
     "metadata": {
      "needs_background": "light"
     },
     "output_type": "display_data"
    }
   ],
   "source": [
    "# Histogram for distribution of CLTV-CAC Spread\n",
    "fig, ax = plt.subplots(figsize=(9,6))\n",
    "sns.distplot(plot_df['Spread'], kde=False, bins=150)\n",
    "plt.axvline(x=0, color='red')\n",
    "plt.xlim(-200, 80)\n",
    "\n",
    "ax.set_xlabel(\"CLTV - CAC Spread\",fontsize=16)\n",
    "ax.set_ylabel(\"Frequency\",fontsize=16)\n",
    "plt.tight_layout()\n",
    "\n",
    "plt.savefig(fname='spread_hist', dpi=150)\n",
    "plt.show()"
   ]
  },
  {
   "cell_type": "code",
   "execution_count": 19,
   "metadata": {},
   "outputs": [
    {
     "data": {
      "text/plain": [
       "40.436723150539066"
      ]
     },
     "execution_count": 19,
     "metadata": {},
     "output_type": "execute_result"
    }
   ],
   "source": [
    "plot_df['CAC'].median()"
   ]
  },
  {
   "cell_type": "code",
   "execution_count": 20,
   "metadata": {},
   "outputs": [
    {
     "data": {
      "text/plain": [
       "0.5860323886639676"
      ]
     },
     "execution_count": 20,
     "metadata": {},
     "output_type": "execute_result"
    }
   ],
   "source": [
    "sum(plot_df['Spread'] > plot_df['CAC'].median())/plot_df.shape[0]"
   ]
  },
  {
   "cell_type": "code",
   "execution_count": 21,
   "metadata": {},
   "outputs": [
    {
     "data": {
      "text/plain": [
       "1.0"
      ]
     },
     "execution_count": 21,
     "metadata": {},
     "output_type": "execute_result"
    }
   ],
   "source": [
    "conversion_rate_expected*20000"
   ]
  },
  {
   "cell_type": "code",
   "execution_count": 36,
   "metadata": {},
   "outputs": [
    {
     "data": {
      "text/plain": [
       "102.86135072585732"
      ]
     },
     "execution_count": 36,
     "metadata": {},
     "output_type": "execute_result"
    }
   ],
   "source": [
    "np.quantile(plot_df['CAC'], 0.94)"
   ]
  },
  {
   "cell_type": "code",
   "execution_count": 41,
   "metadata": {},
   "outputs": [
    {
     "data": {
      "text/plain": [
       "16.52892561983471"
      ]
     },
     "execution_count": 41,
     "metadata": {},
     "output_type": "execute_result"
    }
   ],
   "source": [
    "min(plot_df['CAC'])"
   ]
  },
  {
   "cell_type": "code",
   "execution_count": null,
   "metadata": {},
   "outputs": [],
   "source": []
  }
 ],
 "metadata": {
  "kernelspec": {
   "display_name": "Python 3",
   "language": "python",
   "name": "python3"
  },
  "language_info": {
   "codemirror_mode": {
    "name": "ipython",
    "version": 3
   },
   "file_extension": ".py",
   "mimetype": "text/x-python",
   "name": "python",
   "nbconvert_exporter": "python",
   "pygments_lexer": "ipython3",
   "version": "3.7.1"
  }
 },
 "nbformat": 4,
 "nbformat_minor": 2
}
