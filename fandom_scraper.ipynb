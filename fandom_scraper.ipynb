{
 "cells": [
  {
   "cell_type": "code",
   "execution_count": 1,
   "metadata": {},
   "outputs": [],
   "source": [
    "import time\n",
    "from selenium.webdriver.common.by import By\n",
    "from selenium.webdriver import Firefox\n",
    "from selenium.webdriver.firefox.options import Options\n",
    "from selenium.webdriver.firefox.firefox_profile import FirefoxProfile\n",
    "from selenium.webdriver.firefox.service import Service\n",
    "import pandas as pd \n",
    "import re\n",
    "\n",
    "# profile = FirefoxProfile()\n",
    "# profile.set_preference('browser.cache.disk.enable', False)\n",
    "# profile.set_preference('browser.cache.memory.enable', False)\n",
    "# profile.set_preference('browser.cache.offline.enable', False)\n",
    "# profile.set_preference('network.cookie.cookieBehavior', 2)\n",
    "\n",
    "def new_browser():\n",
    "    opts = Options()\n",
    "    opts.headless = False\n",
    "    return Firefox(service=Service(\"./geckodriver\"), options=opts)\n",
    "\n",
    "\n",
    "#  https://intoli.com/blog/clear-the-firefox-browser-cache/"
   ]
  },
  {
   "cell_type": "code",
   "execution_count": 2,
   "metadata": {},
   "outputs": [],
   "source": [
    "b = new_browser()"
   ]
  },
  {
   "cell_type": "code",
   "execution_count": null,
   "metadata": {},
   "outputs": [],
   "source": []
  }
 ],
 "metadata": {
  "kernelspec": {
   "display_name": "Python 3.9.6 64-bit",
   "language": "python",
   "name": "python3"
  },
  "language_info": {
   "codemirror_mode": {
    "name": "ipython",
    "version": 3
   },
   "file_extension": ".py",
   "mimetype": "text/x-python",
   "name": "python",
   "nbconvert_exporter": "python",
   "pygments_lexer": "ipython3",
   "version": "3.9.6"
  },
  "orig_nbformat": 4,
  "vscode": {
   "interpreter": {
    "hash": "aee8b7b246df8f9039afb4144a1f6fd8d2ca17a180786b69acc140d282b71a49"
   }
  }
 },
 "nbformat": 4,
 "nbformat_minor": 2
}
